{
 "cells": [
  {
   "cell_type": "markdown",
   "metadata": {},
   "source": [
    "# Steps "
   ]
  },
  {
   "cell_type": "markdown",
   "metadata": {},
   "source": [
    "## 1. Create internal_metadata (.tsv)"
   ]
  },
  {
   "cell_type": "markdown",
   "metadata": {},
   "source": [
    "1. Create an excel table with the same BioProject ID (may separate into different files with food types)\n",
    "2. Search on NCBI with run accession (SRA) -- check if the run is available on NCBI\n",
    "3. Link to BioSample -- check the sample detailed description\n",
    "4. Search if the BioProject is published\n",
    "5. Fill the internal metadata table with inforamtion on NCBI BioSample and published article\n",
    "6. Create ID list for each BioProject\n",
    "\n",
    "\n"
   ]
  },
  {
   "cell_type": "markdown",
   "metadata": {},
   "source": [
    "## 2. Create a cache for each BioProject"
   ]
  },
  {
   "cell_type": "code",
   "execution_count": null,
   "metadata": {
    "vscode": {
     "languageId": "shellscript"
    }
   },
   "outputs": [],
   "source": [
    "qiime tools cache-create --cache PRJEB34001-cache"
   ]
  },
  {
   "cell_type": "markdown",
   "metadata": {},
   "source": [
    "### how to remove keys in a cache"
   ]
  },
  {
   "cell_type": "code",
   "execution_count": null,
   "metadata": {
    "vscode": {
     "languageId": "shellscript"
    }
   },
   "outputs": [],
   "source": [
    "qiime tools cache-remove \\\n",
    "   --cache PRJEB34001-cache \\\n",
    "   --key PRJEB34001_id "
   ]
  },
  {
   "cell_type": "code",
   "execution_count": null,
   "metadata": {
    "vscode": {
     "languageId": "shellscript"
    }
   },
   "outputs": [],
   "source": [
    "qiime tools cache-remove \\\n",
    "   --cache PRJEB34001-cache \\\n",
    "   --key PRJEB34001_metadata"
   ]
  },
  {
   "cell_type": "markdown",
   "metadata": {},
   "source": [
    "## 3. Upload ID list into scratch cluster"
   ]
  },
  {
   "cell_type": "code",
   "execution_count": null,
   "metadata": {
    "vscode": {
     "languageId": "shellscript"
    }
   },
   "outputs": [],
   "source": [
    "scp Fermented_food_PRJEB34001_id_metagenomes_illumina.tsv kexdai@euler.ethz.ch:/cluster/scratch/kexdai/"
   ]
  },
  {
   "cell_type": "markdown",
   "metadata": {},
   "source": [
    "## 4. Import ID list into a NCBIAccessionIDs artifact"
   ]
  },
  {
   "cell_type": "code",
   "execution_count": null,
   "metadata": {
    "vscode": {
     "languageId": "shellscript"
    }
   },
   "outputs": [],
   "source": [
    "qiime tools import \\\n",
    "              --type NCBIAccessionIDs \\\n",
    "              --input-path Fermented_food_PRJEB34001_id_metagenomes_illumina.tsv \\\n",
    "              --output-path PRJEB34001_id.qza\n"
   ]
  },
  {
   "cell_type": "markdown",
   "metadata": {},
   "source": [
    "### (optional) directly store into cache"
   ]
  },
  {
   "cell_type": "code",
   "execution_count": null,
   "metadata": {
    "vscode": {
     "languageId": "shellscript"
    }
   },
   "outputs": [],
   "source": [
    "qiime tools import \\\n",
    "              --type NCBIAccessionIDs \\\n",
    "              --input-path Fermented_food_PRJEB34001_id_metagenomes_illumina.tsv \\\n",
    "              --output-path PRJEB34001-cache:PRJEB34001_id"
   ]
  },
  {
   "cell_type": "markdown",
   "metadata": {},
   "source": [
    "## 5. Fetch metadata with fondue command"
   ]
  },
  {
   "cell_type": "code",
   "execution_count": null,
   "metadata": {
    "vscode": {
     "languageId": "shellscript"
    }
   },
   "outputs": [],
   "source": [
    "qiime fondue get-metadata \\\n",
    "              --i-accession-ids PRJEB34001_id.qza \\\n",
    "              --p-n-jobs 1 \\\n",
    "              --p-email kexdai@ethz.ch \\\n",
    "              --o-metadata PRJEB34001_metadata.qza \\\n",
    "              --o-failed-runs PRJEB34001_metadata_failed_id.qza"
   ]
  },
  {
   "cell_type": "markdown",
   "metadata": {},
   "source": [
    "### (optional) directly store the output artifact into cache"
   ]
  },
  {
   "cell_type": "code",
   "execution_count": null,
   "metadata": {
    "vscode": {
     "languageId": "shellscript"
    }
   },
   "outputs": [],
   "source": [
    "qiime fondue get-metadata \\\n",
    "  --i-accession-ids PRJNA997800-cache:PRJNA997800_id \\\n",
    "  --p-n-jobs 1 \\\n",
    "  --p-email kexdai@ethz.ch \\\n",
    "  --o-metadata PRJNA997800-cache:PRJNA997800_metadata \\\n",
    "  --o-failed-runs PRJNA997800_metadata_failed_id.qza"
   ]
  },
  {
   "cell_type": "markdown",
   "metadata": {},
   "source": [
    "### check the failed metadata id, if the no error, then remove these failed id files"
   ]
  },
  {
   "cell_type": "code",
   "execution_count": null,
   "metadata": {
    "vscode": {
     "languageId": "shellscript"
    }
   },
   "outputs": [],
   "source": [
    " cp PRJNA289617_metadata_failed_id.qza PRJNA289617_metadata_failed_id.tmp\n",
    " unzip PRJNA289617_metadata_failed_id.tmp\n",
    " ls\n",
    " cd 9572b336-b56b-4cec-8b75-ab9a713ac6ac\n",
    " cd data\n",
    " less sra-failed-ids.tsv\n",
    " rm -rf 9572b336-b56b-4cec-8b75-ab9a713ac6ac\n",
    " rm PRJNA289617_metadata_failed_id.qza PRJNA289617_metadata_failed_id.tmp\n"
   ]
  },
  {
   "cell_type": "markdown",
   "metadata": {},
   "source": [
    "## 6. Download the metadata artifact to local\n",
    "(run it under the local path where you want to download)"
   ]
  },
  {
   "cell_type": "code",
   "execution_count": null,
   "metadata": {
    "vscode": {
     "languageId": "shellscript"
    }
   },
   "outputs": [],
   "source": [
    "scp kexdai@euler.ethz.ch:/cluster/scratch/kexdai/PRJEB34001_metadata.qza ."
   ]
  },
  {
   "cell_type": "markdown",
   "metadata": {},
   "source": [
    "## 7. Export the metadata artifact\n",
    "(the output will be a folder, file inside is alway named as sra-metadata.tsv) "
   ]
  },
  {
   "cell_type": "code",
   "execution_count": null,
   "metadata": {
    "vscode": {
     "languageId": "shellscript"
    }
   },
   "outputs": [],
   "source": [
    "qiime tools export \\\n",
    "  --input-path PRJEB34001_metadata.qza \\\n",
    "  --output-path PRJEB34001_metadata\n"
   ]
  },
  {
   "cell_type": "markdown",
   "metadata": {},
   "source": [
    "## 8. Dowload the metadata (.tsv) to local and rename it\n",
    "(run it under the local path where you want to download)"
   ]
  },
  {
   "cell_type": "code",
   "execution_count": null,
   "metadata": {
    "vscode": {
     "languageId": "shellscript"
    }
   },
   "outputs": [],
   "source": [
    "scp kexdai@euler.ethz.ch:/cluster/scratch/kexdai/PRJEB34001_metadata/sra-metadata.tsv Fermented_food_PRJEB34001_metadata_metagenomes_illumina.tsv"
   ]
  },
  {
   "cell_type": "markdown",
   "metadata": {},
   "source": [
    "remove the directory"
   ]
  },
  {
   "cell_type": "code",
   "execution_count": null,
   "metadata": {
    "vscode": {
     "languageId": "shellscript"
    }
   },
   "outputs": [],
   "source": [
    "rm -rf PRJEB34001_metadata"
   ]
  },
  {
   "cell_type": "markdown",
   "metadata": {},
   "source": [
    "## 9. Fetch sequence with fondue command"
   ]
  },
  {
   "cell_type": "markdown",
   "metadata": {},
   "source": [
    "create .sh file for the script"
   ]
  },
  {
   "cell_type": "code",
   "execution_count": null,
   "metadata": {
    "vscode": {
     "languageId": "shellscript"
    }
   },
   "outputs": [],
   "source": [
    "#!/bin/bash\n",
    "\n",
    "#SBATCH --ntasks=1\n",
    "#SBATCH --cpus-per-task=24\n",
    "#SBATCH --time=144:00:00\n",
    "#SBATCH --job-name=\"PRJEB34001_sequences\"\n",
    "#SBATCH --mem-per-cpu=2048\n",
    "#SBATCH --tmp=1000G\n",
    "#SBATCH --mail-type=BEGIN,END\n",
    "#SBATCH --output=%x.out\n",
    "#SBATCH --error=%x.err\n",
    "\n",
    "module load eth_proxy\n",
    "\n",
    "# Load Conda environment\n",
    "source ~/.bashrc  # Ensure Conda is available\n",
    "conda activate fondue  # Activate the correct environment\n",
    "\n",
    "qiime fondue get-sequences \\\n",
    "  --i-accession-ids PRJEB34001_id.qza \\\n",
    "  --p-n-jobs 24 \\\n",
    "  --p-email kexdai@ethz.ch \\\n",
    "  --o-single-reads PRJEB34001-cache:PRJEB34001_single \\\n",
    "  --o-paired-reads PRJEB34001-cache:PRJEB34001_paired \\\n",
    "  --o-failed-runs PRJEB34001-cache:PRJEB34001_failed_ids"
   ]
  },
  {
   "cell_type": "markdown",
   "metadata": {},
   "source": [
    "maxium reachable cores: 48, so require 24 cpus per task, then two jobs could running paralelly"
   ]
  },
  {
   "cell_type": "markdown",
   "metadata": {},
   "source": [
    "transfer the script from local to cluster"
   ]
  },
  {
   "cell_type": "code",
   "execution_count": null,
   "metadata": {
    "vscode": {
     "languageId": "shellscript"
    }
   },
   "outputs": [],
   "source": [
    "scp PRJEB34001.sh kexdai@euler.ethz.ch:/cluster/scratch/kexdai/"
   ]
  },
  {
   "cell_type": "markdown",
   "metadata": {},
   "source": [
    "(here I am showing how to transfer two files together)"
   ]
  },
  {
   "cell_type": "markdown",
   "metadata": {},
   "source": [
    "## 10. Run sbatch on $SCRATCH cluster"
   ]
  },
  {
   "cell_type": "code",
   "execution_count": null,
   "metadata": {
    "vscode": {
     "languageId": "shellscript"
    }
   },
   "outputs": [],
   "source": [
    "sbatch PRJEB34001.sh"
   ]
  },
  {
   "cell_type": "markdown",
   "metadata": {},
   "source": [
    "### (optional) If didn't save the sequence data into cache"
   ]
  },
  {
   "cell_type": "code",
   "execution_count": null,
   "metadata": {
    "vscode": {
     "languageId": "shellscript"
    }
   },
   "outputs": [],
   "source": [
    "qiime tools cache-store \\\n",
    "   --cache PRJNA1052643-cache \\\n",
    "   --artifact-path ./PRJNA1052643_single.qza \\\n",
    "   --key PRJNA1052643_single"
   ]
  },
  {
   "cell_type": "code",
   "execution_count": null,
   "metadata": {
    "vscode": {
     "languageId": "shellscript"
    }
   },
   "outputs": [],
   "source": [
    "qiime tools cache-store \\\n",
    "   --cache PRJNA1052643-cache \\\n",
    "   --artifact-path ./PRJNA1052643_paired.qza \\\n",
    "   --key PRJNA1052643_paired"
   ]
  },
  {
   "cell_type": "code",
   "execution_count": null,
   "metadata": {
    "vscode": {
     "languageId": "shellscript"
    }
   },
   "outputs": [],
   "source": [
    "qiime tools cache-store \\\n",
    "   --cache PRJNA1052643-cache \\\n",
    "   --artifact-path ./PRJNA1052643_failed_ids.qza \\\n",
    "   --key PRJNA1052643_failed_ids"
   ]
  },
  {
   "cell_type": "markdown",
   "metadata": {},
   "source": [
    "### list all the directory with name in cache"
   ]
  },
  {
   "cell_type": "code",
   "execution_count": null,
   "metadata": {
    "vscode": {
     "languageId": "shellscript"
    }
   },
   "outputs": [],
   "source": [
    "ls -d *cache*/"
   ]
  },
  {
   "cell_type": "markdown",
   "metadata": {},
   "source": [
    "### create a folder, and move the compeleted running cache inside each week"
   ]
  },
  {
   "cell_type": "code",
   "execution_count": null,
   "metadata": {
    "vscode": {
     "languageId": "shellscript"
    }
   },
   "outputs": [],
   "source": [
    "mkdir SEQUENCES-CARLINO"
   ]
  },
  {
   "cell_type": "code",
   "execution_count": null,
   "metadata": {
    "vscode": {
     "languageId": "shellscript"
    }
   },
   "outputs": [],
   "source": [
    "mv PRJEB21603-cache PRJEB34001-cache PRJEB65292-cache PRJNA1052643-cache PRJNA289617-cache PRJNA977472-cache PRJNA997800-cache SEQUENCES-CARLINO"
   ]
  },
  {
   "cell_type": "markdown",
   "metadata": {},
   "source": [
    "### change the permission of the folder, changed it to anyone can move it"
   ]
  },
  {
   "cell_type": "code",
   "execution_count": null,
   "metadata": {
    "vscode": {
     "languageId": "shellscript"
    }
   },
   "outputs": [],
   "source": [
    "chmod 777 SEQUENCES-CARLINO"
   ]
  },
  {
   "cell_type": "code",
   "execution_count": null,
   "metadata": {
    "vscode": {
     "languageId": "shellscript"
    }
   },
   "outputs": [],
   "source": [
    "chmod -R 755 /cluster/scratch/kexdai"
   ]
  },
  {
   "cell_type": "markdown",
   "metadata": {},
   "source": [
    "but since I am not the owner of file '__USAGE_RULES__' inside /cluster/scratch/kexdai, so I cannot run chmod -R 755 /cluster/scratch/kexdai, I need to run the permission changing command only to the file i created"
   ]
  },
  {
   "cell_type": "code",
   "execution_count": null,
   "metadata": {
    "vscode": {
     "languageId": "shellscript"
    }
   },
   "outputs": [],
   "source": [
    "find /cluster/scratch/kexdai -user $USER -exec chmod 755 {} \\;"
   ]
  },
  {
   "cell_type": "markdown",
   "metadata": {},
   "source": [
    "then I encounter a dangling symlink issue:"
   ]
  },
  {
   "cell_type": "markdown",
   "metadata": {},
   "source": [
    "chmod: cannot operate on dangling symlink '/cluster/scratch/kexdai/SEQUENCES-CARLINO/PRJEB34001-cache/processes/2255939-1740706172.82@kexdai/bce8425e-1939-4b46-9978-b8505d5305dd.2670738939692050232'"
   ]
  },
  {
   "cell_type": "markdown",
   "metadata": {
    "vscode": {
     "languageId": "shellscript"
    }
   },
   "source": [
    "so I checked the dangling smlink files, and found out it is the only one, and since it's empty, so I removed it"
   ]
  },
  {
   "cell_type": "code",
   "execution_count": null,
   "metadata": {
    "vscode": {
     "languageId": "shellscript"
    }
   },
   "outputs": [],
   "source": [
    "find /cluster/scratch/kexdai -xtype l\n",
    "rm"
   ]
  },
  {
   "cell_type": "markdown",
   "metadata": {},
   "source": [
    "then rerun the permission changing command"
   ]
  },
  {
   "cell_type": "code",
   "execution_count": null,
   "metadata": {
    "vscode": {
     "languageId": "shellscript"
    }
   },
   "outputs": [],
   "source": [
    "find /cluster/scratch/kexdai -user $USER -exec chmod 755 {} \\;"
   ]
  },
  {
   "cell_type": "markdown",
   "metadata": {},
   "source": [
    "check the permission of the folder, drwxrwxrwx means full access for everyone"
   ]
  },
  {
   "cell_type": "code",
   "execution_count": null,
   "metadata": {
    "vscode": {
     "languageId": "shellscript"
    }
   },
   "outputs": [],
   "source": [
    "ls -ld SEQUENCES-CARLINO"
   ]
  }
 ],
 "metadata": {
  "language_info": {
   "name": "python"
  }
 },
 "nbformat": 4,
 "nbformat_minor": 2
}
