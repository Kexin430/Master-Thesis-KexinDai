{
 "cells": [
  {
   "cell_type": "markdown",
   "metadata": {},
   "source": [
    "# Failed Runs Checking"
   ]
  },
  {
   "cell_type": "markdown",
   "metadata": {},
   "source": [
    "## 1. Failed jobs"
   ]
  },
  {
   "cell_type": "markdown",
   "metadata": {},
   "source": [
    "#### failed files:"
   ]
  },
  {
   "cell_type": "code",
   "execution_count": null,
   "metadata": {
    "vscode": {
     "languageId": "shellscript"
    }
   },
   "outputs": [],
   "source": [
    "(base) kexdai@eu-login-40:/cluster/scratch/kexdai$ cat Cheese_PRJNA997801_sequences.err\n",
    "Plugin error from fondue:\n",
    "\n",
    "  /scratch/tmp.24135457.kexdai/q2-CasavaOneEightSingleLanePerSampleDirFmt-oxfejuiu is not a(n) CasavaOneEightSingleLanePerSampleDirFmt:\n",
    "\n",
    "  These samples do not have matching pairs of forward and reverse reads: {'SRR25395177', 'SRR25395174'}\n",
    "\n",
    "Debug info has been saved to /scratch/tmp.24135457.kexdai/qiime2-q2cli-err-x2ru7fkn.log\n",
    "(base) kexdai@eu-login-40:/cluster/scratch/kexdai$ cat Cheese_PRJNA1094419_sequences.err\n",
    "Plugin error from fondue:\n",
    "\n",
    "  /scratch/tmp.24135453.kexdai/q2-CasavaOneEightSingleLanePerSampleDirFmt-fnlpv54e is not a(n) CasavaOneEightSingleLanePerSampleDirFmt:\n",
    "\n",
    "  These samples do not have matching pairs of forward and reverse reads: {'SRR28523246', 'SRR28523251'}\n",
    "\n",
    "Debug info has been saved to /scratch/tmp.24135453.kexdai/qiime2-q2cli-err-a75vszba.log"
   ]
  },
  {
   "cell_type": "markdown",
   "metadata": {},
   "source": [
    "I have removed the two sample ids SRR28523246 and SRR28523251 from PRJNA1094419, and I set the running time for this BioProject for 2 weeks (because it timed out for 6-day running)"
   ]
  },
  {
   "cell_type": "code",
   "execution_count": null,
   "metadata": {
    "vscode": {
     "languageId": "shellscript"
    }
   },
   "outputs": [],
   "source": [
    "Plugin error from fondue:\n",
    "\n",
    "  /scratch/tmp.24997728.kexdai/q2-CasavaOneEightSingleLanePerSampleDirFmt-c36iltio is not a(n) CasavaOneEightSingleLanePerSampleDirFmt:\n",
    "\n",
    "  These samples do not have matching pairs of forward and reverse reads: {'SRR25394842', 'SRR25394843'}\n",
    "\n",
    "Debug info has been saved to /scratch/tmp.24997728.kexdai/qiime2-q2cli-err-nxfnq2x6.log"
   ]
  },
  {
   "cell_type": "markdown",
   "metadata": {},
   "source": [
    "I remove the four problematic run ids, and run again for PRJNA997801\n",
    "(the metadata artifact and table are also without 'SRR25395177', 'SRR25395174', 'SRR25394842', 'SRR25394843')"
   ]
  },
  {
   "cell_type": "code",
   "execution_count": null,
   "metadata": {
    "vscode": {
     "languageId": "shellscript"
    }
   },
   "outputs": [],
   "source": [
    "Plugin error from fondue:\n",
    "\n",
    "  /scratch/tmp.25119041.kexdai/q2-CasavaOneEightSingleLanePerSampleDirFmt-403ujr21 is not a(n) CasavaOneEightSingleLanePerSampleDirFmt:\n",
    "\n",
    "  These samples do not have matching pairs of forward and reverse reads: {'SRR25394840', 'SRR25394841'}\n",
    "\n",
    "Debug info has been saved to /scratch/tmp.25119041.kexdai/qiime2-q2cli-err-qgczhyp8.log"
   ]
  },
  {
   "cell_type": "markdown",
   "metadata": {},
   "source": [
    "I remove the failed run ids in the five cheese id file for this BioProject, but I highlight them in the excel file "
   ]
  },
  {
   "cell_type": "markdown",
   "metadata": {},
   "source": [
    "1:"
   ]
  },
  {
   "cell_type": "code",
   "execution_count": null,
   "metadata": {
    "vscode": {
     "languageId": "shellscript"
    }
   },
   "outputs": [],
   "source": [
    "Plugin error from fondue:\n",
    "\n",
    "  /scratch/tmp.25288823.kexdai/q2-CasavaOneEightSingleLanePerSampleDirFmt-fl9ojzr9 is not a(n) CasavaOneEightSingleLanePerSampleDirFmt:\n",
    "\n",
    "  These samples do not have matching pairs of forward and reverse reads: {'SRR25395503', 'SRR25395505', 'SRR25395499'}\n",
    "\n",
    "Debug info has been saved to /scratch/tmp.25288823.kexdai/qiime2-q2cli-err-ud99s_5x.log"
   ]
  },
  {
   "cell_type": "markdown",
   "metadata": {},
   "source": [
    "I haven't move away these three in the .tsv id file, I uploaded this file again and reget the id artifact and set the sequence fetching job running again."
   ]
  },
  {
   "cell_type": "markdown",
   "metadata": {},
   "source": [
    "2:"
   ]
  },
  {
   "cell_type": "code",
   "execution_count": null,
   "metadata": {
    "vscode": {
     "languageId": "shellscript"
    }
   },
   "outputs": [],
   "source": [
    "Plugin error from fondue:\n",
    "\n",
    "  /scratch/tmp.25312344.kexdai/q2-CasavaOneEightSingleLanePerSampleDirFmt-5n2a9byp is not a(n) CasavaOneEightSingleLanePerSampleDirFmt:\n",
    "\n",
    "  These samples do not have matching pairs of forward and reverse reads: {'SRR25395238'}\n",
    "\n",
    "Debug info has been saved to /scratch/tmp.25312344.kexdai/qiime2-q2cli-err-i8j2b9bu.log"
   ]
  },
  {
   "cell_type": "markdown",
   "metadata": {},
   "source": [
    "removed, and rerun"
   ]
  },
  {
   "cell_type": "markdown",
   "metadata": {},
   "source": [
    "### Summary for exclued IDs for sequence fetching using fondue"
   ]
  },
  {
   "cell_type": "markdown",
   "metadata": {},
   "source": [
    "PRJNA997801:\n",
    "'SRR25395177', 'SRR25395174', 'SRR25394842', 'SRR25394843', 'SRR25394840', 'SRR25394841', 'SRR25395503', 'SRR25395505', 'SRR25395499', 'SRR25395238'"
   ]
  },
  {
   "cell_type": "markdown",
   "metadata": {},
   "source": [
    "PRJNA1094419:\n",
    "'SRR28523246', 'SRR28523251'"
   ]
  },
  {
   "cell_type": "markdown",
   "metadata": {
    "vscode": {
     "languageId": "shellscript"
    }
   },
   "source": [
    "PRJNA997801:\n",
    "SRR25395320, SRR25395327\n",
    "'SRR25395116', 'SRR25395129'\n",
    "SRR25395379\n",
    "'SRR25395496', 'SRR25395493'\n",
    "'SRR25394997', 'SRR25395003'"
   ]
  },
  {
   "cell_type": "markdown",
   "metadata": {},
   "source": [
    "## Solution: download these with iSeq"
   ]
  },
  {
   "cell_type": "code",
   "execution_count": null,
   "metadata": {
    "vscode": {
     "languageId": "shellscript"
    }
   },
   "outputs": [],
   "source": [
    "# Try installing with Mamba (a faster alternative to Conda):\n",
    "conda install -n base -c conda-forge mamba\n",
    "# Then, install iseq using Mamba:\n",
    "mamba install -c bioconda iseq\n",
    "# Try creating a clean environment first\n",
    "# Instead of installing in an existing environment, create a fresh one:\n",
    "conda create -n iseq_env -c bioconda -c conda-forge iseq\n",
    "conda activate iseq_env"
   ]
  },
  {
   "cell_type": "markdown",
   "metadata": {},
   "source": [
    "I run iSeq for one Run Accession"
   ]
  },
  {
   "cell_type": "code",
   "execution_count": null,
   "metadata": {
    "vscode": {
     "languageId": "shellscript"
    }
   },
   "outputs": [],
   "source": [
    "iseq -i SRR28523246 -q"
   ]
  },
  {
   "cell_type": "markdown",
   "metadata": {},
   "source": [
    "output files: \n",
    "SRR28523246\n",
    "SRR28523246_1.fastq\n",
    "SRR28523246_2.fastq\n",
    "SRR28523246.fastq\n",
    "SRR28523246.metadata.tsv\n",
    "success.log"
   ]
  },
  {
   "cell_type": "markdown",
   "metadata": {},
   "source": [
    "Check for the number of reads: If the number of reads in SRR28523246.fastq is the same as the sum of the forward and reverse read files (SRR28523246_1.fastq and SRR28523246_2.fastq), then it indicates that the reads are paired and combined correctly. "
   ]
  },
  {
   "cell_type": "markdown",
   "metadata": {},
   "source": [
    "By using wc -l command to check line counts, the number of reads is significantly lower in combined file SRR28523246.fastq, so this suggest some error with the matching between forward and reverese read"
   ]
  },
  {
   "cell_type": "markdown",
   "metadata": {},
   "source": [
    "fetch the sequences of these error run accessions, and generate artifact (the matching will be checked during this process):"
   ]
  },
  {
   "cell_type": "code",
   "execution_count": null,
   "metadata": {
    "vscode": {
     "languageId": "shellscript"
    }
   },
   "outputs": [],
   "source": [
    "# create a txt file and transfer to scratch, then use dos2unix tool to convert file to Unix-style ending\n",
    "dos2unix run_accessions.txt"
   ]
  },
  {
   "cell_type": "code",
   "execution_count": null,
   "metadata": {
    "vscode": {
     "languageId": "shellscript"
    }
   },
   "outputs": [],
   "source": [
    "# run iseq under ERROR-SEQUENCES folder\n",
    "iseq -i run_accessions.txt -g\n",
    "# use nohhup to allow contimuous running even disconnect or termial session ends\n",
    "# nohup iseq -i run_accessions.txt -g &"
   ]
  },
  {
   "cell_type": "code",
   "execution_count": null,
   "metadata": {
    "vscode": {
     "languageId": "shellscript"
    }
   },
   "outputs": [],
   "source": [
    "# rename the sequence files to meet qiime analysis\n",
    "for f in *_1.fastq.gz; do  \n",
    "    base=$(basename \"$f\" _1.fastq.gz)  \n",
    "    mv \"${base}_1.fastq.gz\" \"${base}_L001_R1_001.fastq.gz\"  \n",
    "    mv \"${base}_2.fastq.gz\" \"${base}_L001_R2_001.fastq.gz\"  \n",
    "done\n",
    "# create a folder for sequences\n",
    "mkdir SEQUENCES\n",
    "# move the sequence files inside the folder\n",
    "mv *_L001_R1_001.fastq.gz *_L001_R2_001.fastq.gz SEQUENCES/"
   ]
  },
  {
   "cell_type": "code",
   "execution_count": null,
   "metadata": {
    "vscode": {
     "languageId": "shellscript"
    }
   },
   "outputs": [],
   "source": [
    "# creare manifest\n",
    "echo -e \"SampleID\\tforward-absolute-filepath\\treverse-absolute-filepath\" > manifest.csv\n",
    "for file in *_L001_R1_001.fastq.gz; do\n",
    "    sample_id=$(echo \"$file\" | cut -d'_' -f1)\n",
    "    echo -e \"$sample_id\\t/cluster/scratch/kexdai/ERROR-SEQUENCES/SEQUENCES/${sample_id}_L001_R1_001.fastq.gz\\t/cluster/scratch/kexdai/ERROR-SEQUENCES/SEQUENCES/${sample_id}_L001_R2_001.fastq.gz\" >> manifest.csv\n",
    "done\n",
    "# rename it\n",
    "mv manifest.csv MANIFEST"
   ]
  },
  {
   "cell_type": "code",
   "execution_count": null,
   "metadata": {
    "vscode": {
     "languageId": "shellscript"
    }
   },
   "outputs": [],
   "source": [
    "# import sequence into QIIME 2 artifact\n",
    "qiime tools import \\\n",
    "  --type 'SampleData[PairedEndSequencesWithQuality]' \\\n",
    "  --input-path MANIFEST \\\n",
    "  --output-path paired-end-demux.qza \\\n",
    "  --input-format PairedEndFastqManifestPhred33V2"
   ]
  },
  {
   "cell_type": "code",
   "execution_count": null,
   "metadata": {
    "vscode": {
     "languageId": "shellscript"
    }
   },
   "outputs": [],
   "source": [
    "# briefly examine the resulting artifact\n",
    "qiime tools peek paired-end-demux.qza"
   ]
  },
  {
   "cell_type": "code",
   "execution_count": null,
   "metadata": {
    "vscode": {
     "languageId": "shellscript"
    }
   },
   "outputs": [],
   "source": [
    "# to visual summary\n",
    "qiime demux summarize \\\n",
    "  --i-data paired-end-demux.qza \\\n",
    "  --o-visualization paired-end-demux.qzv \\\n",
    "  --verbose"
   ]
  },
  {
   "cell_type": "markdown",
   "metadata": {},
   "source": [
    "## 2. Failed ids"
   ]
  },
  {
   "cell_type": "markdown",
   "metadata": {},
   "source": [
    "Here I am checking the failed ids in the cache, which is the fialed runs generated by fondue"
   ]
  },
  {
   "cell_type": "markdown",
   "metadata": {},
   "source": [
    "PRJEB65292:"
   ]
  },
  {
   "cell_type": "code",
   "execution_count": null,
   "metadata": {
    "vscode": {
     "languageId": "shellscript"
    }
   },
   "outputs": [],
   "source": [
    "ID      Error message\n",
    "ERR11865387     \"cursor-cache : 5,242,880 bytes\n",
    "buf-size     : 1,048,576 bytes\n",
    "mem-limit    : 52,428,800 bytes\n",
    "threads      : 24\n",
    "scratch-path : '/scratch/tmp.24794122.kexdai/tmpfj27bojx/fasterq.tmp.eu-g9-038-1.925261/'\n",
    "total ram    : 402,982,465,536 bytes\n",
    "output-format: FASTQ split 3\n",
    "check-mode   : on\n",
    "output-file  : '/scratch/tmp.24794122.kexdai/tmpfj27bojx/ERR11865387.fastq'\n",
    "output-dir   : '.'\n",
    "output       : '/scratch/tmp.24794122.kexdai/tmpfj27bojx/ERR11865387.fastq'\n",
    "append-mode  : 'NO'\n",
    "stdout-mode  : 'NO'\n",
    "seq-defline  : '@$ac.$si $sn length=$rl'\n",
    "qual-defline  : '+$ac.$si $sn length=$rl'\n",
    "only-unaligned : 'NO'\n",
    "only-aligned   : 'NO'\n",
    "accession     : 'ERR11865387'\n",
    "accession-path: 'ERR11865387'\n",
    "est. output          : 2,025,515,896 bytes\n",
    "disk-limit (OS)      : 1,188,997,259,264 bytes\n",
    "disk-limit-tmp (OS)  : 1,188,997,918,720 bytes\n",
    "out/tmp on same fs   : 'NO'\n",
    "\n",
    "ERR11865387 is remote\n",
    "... has a size of 289,071,774 bytes\n",
    "... is cSRA without alignments\n",
    "... SEQ has NAME column = YES\n",
    "... SEQ has SPOT_GROUP column = YES\n",
    "... uses 'SEQUENCE' as sequence-table\n",
    "SEQ.first_row = 1\n",
    "SEQ.row_count = 2,272,632\n",
    "SEQ.spot_count = 2,272,632\n",
    "SEQ.total_base_count = 676,408,412\n",
    "SEQ.bio_base_count = 676,408,412\n",
    "SEQ.avg_name_len = 40\n",
    "SEQ.avg_spot_group_len = 0\n",
    "SEQ.avg_bio_reads_per_spot = 2\n",
    "SEQ.avg_tech_reads_per_spot = 0\n",
    "ALIGN.first_row = 0\n",
    "ALIGN.row_count = 0\n",
    "ALIGN.spot_count = 0\n",
    "ALIGN.total_base_count = 0\n",
    "ALIGN.bio_base_count = 0\n",
    "\n",
    "disk-limit(s) not exeeded!\n",
    "2025-02-28T18:17:18 fasterq-dump.3.0.0 err: cmn_iter.c cmn_open_db().VDBManagerOpenDBReadVPath( 'ERR11865387' ) -> RC(rcDB,rcMgr,rcOpening,rcDatabase,rcIncorrect) \n",
    "2025-02-28T18:17:18 fasterq-dump.3.0.0 err: make_fastq_sra_iter.make_cmn_iter() -> RC(rcDB,rcMgr,rcOpening,rcDatabase,rcIncorrect)\n",
    "2025-02-28T18:17:18 fasterq-dump.3.0.0 err: make_fastq_iter() -> RC(rcDB,rcMgr,rcOpening,rcDatabase,rcIncorrect)\n",
    "spots read      : 2,177,938\n",
    "reads read      : 4,355,876\n",
    "reads written   : 4,355,876\n",
    "fasterq-dump quit with error code 3\n",
    "\""
   ]
  },
  {
   "cell_type": "markdown",
   "metadata": {},
   "source": [
    "PRJNA1052643:"
   ]
  },
  {
   "cell_type": "markdown",
   "metadata": {},
   "source": [
    "error code 3: SRR27593168, SRR27593194\n",
    "SRR27593235     \"2025-02-27T04:56:45 fasterq-dump.3.0.0 fatal: SIGNAL - 8 \n",
    "fasterq-dump quit with error code 1"
   ]
  },
  {
   "cell_type": "markdown",
   "metadata": {},
   "source": [
    "PRJNA977472: (not an error but informational message)"
   ]
  },
  {
   "cell_type": "code",
   "execution_count": null,
   "metadata": {},
   "outputs": [],
   "source": [
    "ID      Error message\n",
    "SRR26215786     \"2025-03-01T13:52:30 prefetch.3.0.0: Current preference is set to retrieve SRA Normalized Format files with full base quality scores.\n",
    "\"\n",
    "SRR26215931     \"2025-03-01T13:52:31 prefetch.3.0.0: Current preference is set to retrieve SRA Normalized Format files with full base quality scores.\n",
    "\"\n",
    "SRR26215953     \"2025-03-01T13:52:32 prefetch.3.0.0: Current preference is set to retrieve SRA Normalized Format files with full base quality scores.\n",
    "\"\n",
    "SRR26216087     \"2025-03-01T13:52:33 prefetch.3.0.0: Current preference is set to retrieve SRA Normalized Format files with full base quality scores.\n",
    "\"\n",
    "SRR26216090     \"2025-03-01T13:52:34 prefetch.3.0.0: Current preference is set to retrieve SRA Normalized Format files with full base quality scores.\n",
    "\"\n",
    "SRR26216109     \"2025-03-01T13:52:36 prefetch.3.0.0: Current preference is set to retrieve SRA Normalized Format files with full base quality scores.\n",
    "\"\n"
   ]
  },
  {
   "cell_type": "markdown",
   "metadata": {},
   "source": [
    "PRJNA997801-2:"
   ]
  },
  {
   "cell_type": "markdown",
   "metadata": {},
   "source": [
    "SRR25394817, SRR25394818, SRR25394835, SRR25394836, SRR25394893, SRR25394896, SRR25394898, SRR25394901, SRR25394902, SRR25394923, SRR25394985, SRR25394986, SRR25394987, SRR25395123\n",
    "error code 3: SRR25394819, SRR25395125"
   ]
  },
  {
   "cell_type": "markdown",
   "metadata": {},
   "source": [
    "\n"
   ]
  },
  {
   "cell_type": "code",
   "execution_count": null,
   "metadata": {},
   "outputs": [],
   "source": []
  }
 ],
 "metadata": {
  "language_info": {
   "name": "python"
  }
 },
 "nbformat": 4,
 "nbformat_minor": 2
}
